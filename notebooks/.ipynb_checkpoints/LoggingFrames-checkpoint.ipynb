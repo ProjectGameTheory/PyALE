{
 "cells": [
  {
   "cell_type": "code",
   "execution_count": 1,
   "metadata": {
    "collapsed": true
   },
   "outputs": [],
   "source": [
    "import sys\n",
    "sys.path.append('/Users/pvrancx/Documents/Code/PyALE/src')"
   ]
  },
  {
   "cell_type": "code",
   "execution_count": 6,
   "metadata": {
    "collapsed": false
   },
   "outputs": [
    {
     "name": "stderr",
     "output_type": "stream",
     "text": [
      "ERROR: Line magic function `%writefile` not found (But cell magic `%%writefile` exists, did you mean that instead?).\n"
     ]
    }
   ],
   "source": [
    "# %load ../src/util/RLGlueRunner.py\n",
    "from multiprocessing import Process\n",
    "import os\n",
    "import rlglue.RLGlue as RLGlue\n",
    "from rlglue.agent import AgentLoader as AgentLoader\n",
    "\n",
    "\n",
    "\n",
    "def run_rlglue():\n",
    "    os.system('rl_glue')\n",
    "    \n",
    "def run_ale(ale_path,game):\n",
    "    ale_str = ''+ale_path + '/ale -display_screen false -game_controller rlglue -frame_skip 5 -disable_colour_averaging -use_environment_distribution '+ale_path +'/roms/'+game \n",
    "    os.system(ale_str)   \n",
    "\n",
    "def run_experiment(maxsteps=100,numeps=1):\n",
    "    taskSpec = RLGlue.RL_init()\n",
    "    for ep in range(numeps):\n",
    "        terminal=RLGlue.RL_episode(maxsteps)\n",
    "        totalSteps=RLGlue.RL_num_steps()\n",
    "        totalReward=RLGlue.RL_return()\n",
    "        print \"Episode \"+str(ep)+\"\\t \"+str(totalSteps)+ \" steps \\t\" + str(totalReward) + \" total reward\\t \" + str(terminal) + \" natural end\"\n",
    "    RLGlue.RL_cleanup()\n",
    "    \n",
    "def run_agent(agent=None):\n",
    "    AgentLoader.loadAgent(agent)\n",
    "    \n",
    "class RLGlueRunner(object):\n",
    "    procs = []\n",
    "    \n",
    "    def __init__(self,host='127.0.0.1',port='4096',ale_path = '.',\n",
    "                 game = 'space_invaders.bin',agent=None,num_eps=1,max_steps=100):\n",
    "        self.host = host\n",
    "        self.port = port\n",
    "        self.ale_path = ale_path\n",
    "        self.game = game\n",
    "        self.agent = agent\n",
    "        self.num_eps = num_eps\n",
    "        self.max_steps = max_steps\n",
    "        \n",
    "    def create_procs(self):\n",
    "        self.procs = []\n",
    "        self.procs.append(Process(target=run_rlglue))\n",
    "        self.procs.append(Process(target=run_ale,args=(self.ale_path,self.game)))\n",
    "        self.procs.append(Process(target=run_experiment,args=(self.max_steps,self.num_eps)))\n",
    "        self.procs.append(Process(target=run_agent,args=(self.agent,)))\n",
    "        \n",
    "    def run(self):\n",
    "        os.environ['RLGLUE_HOST'] = self.host\n",
    "        os.environ['RLGLUE_PORT'] = self.port\n",
    "        self.create_procs()\n",
    "        for p in self.procs:\n",
    "            p.start()\n",
    "            \n",
    "    def is_finished(self):\n",
    "        return reduce(lambda x,y: x and y,map(lambda x: x.is_alive(),self.procs))\n",
    "                        \n",
    "    def terminate(self):\n",
    "        for p in self.procs:\n",
    "            p.terminate()\n",
    "    "
   ]
  },
  {
   "cell_type": "code",
   "execution_count": null,
   "metadata": {
    "collapsed": true
   },
   "outputs": [],
   "source": [
    "from agents.ALESarsaAgent import ALESarsaAgent\n",
    "\n",
    "agent= ALEBackgroundAgent(log_name='data/si_bg.pkl')\n",
    "runner= RLGlueRunner(ale_path ='~/Documents/Projects/ALE',agent=agent,num_eps=100,max_steps=2000)\n",
    "runner.run()"
   ]
  },
  {
   "cell_type": "code",
   "execution_count": 5,
   "metadata": {
    "collapsed": false
   },
   "outputs": [
    {
     "name": "stdout",
     "output_type": "stream",
     "text": [
      "starcluster mycluster node001 'python ALE/python-codec/src/setup.py install' \n",
      "starcluster mycluster node002 'python ALE/python-codec/src/setup.py install' \n",
      "starcluster mycluster node003 'python ALE/python-codec/src/setup.py install' \n"
     ]
    }
   ],
   "source": [
    "import os \n",
    "for n in range(1,4):\n",
    "    n_id = ''\n",
    "    if n < 10:\n",
    "        n_id = 'node00'+str(n)\n",
    "    else:\n",
    "        n_id = 'node0'+str(n)    \n",
    "    cmd_str = 'starcluster mycluster '+n_id + ' \\'python ALE/python-codec/src/setup.py install\\' '\n",
    "    #' \\'dpkg -i /home/ipuser/rl-glue_3.04-1_amd64.deb\\' '\n",
    "    print cmd_str\n",
    "    os.system(cmd_str)"
   ]
  },
  {
   "cell_type": "code",
   "execution_count": null,
   "metadata": {
    "collapsed": true
   },
   "outputs": [],
   "source": []
  }
 ],
 "metadata": {
  "kernelspec": {
   "display_name": "Python 2",
   "language": "python",
   "name": "python2"
  },
  "language_info": {
   "codemirror_mode": {
    "name": "ipython",
    "version": 2
   },
   "file_extension": ".py",
   "mimetype": "text/x-python",
   "name": "python",
   "nbconvert_exporter": "python",
   "pygments_lexer": "ipython2",
   "version": "2.7.10"
  }
 },
 "nbformat": 4,
 "nbformat_minor": 0
}
