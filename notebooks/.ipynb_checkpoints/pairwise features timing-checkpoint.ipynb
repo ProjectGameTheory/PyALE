{
 "cells": [
  {
   "cell_type": "markdown",
   "metadata": {},
   "source": [
    "Timing different methods for calculating pairwise features"
   ]
  },
  {
   "cell_type": "code",
   "execution_count": 49,
   "metadata": {
    "collapsed": true
   },
   "outputs": [],
   "source": [
    "def pairwise(r_idx,num_bits):\n",
    "    p_idx = np.zeros((r_idx.size**2+r_idx.size)//2).astype('uint')\n",
    "    j=0\n",
    "    for i,ind1 in enumerate(r_idx):\n",
    "        for ind2 in r_idx[i:]:\n",
    "            offset = ind1*num_bits - 0.5*ind1*(max(ind1-1,0))\n",
    "            p_idx[j] = (offset+ind2-ind1)\n",
    "            j+=1   \n",
    "    return p_idx"
   ]
  },
  {
   "cell_type": "code",
   "execution_count": 65,
   "metadata": {
    "collapsed": true
   },
   "outputs": [],
   "source": [
    "def pairwise2(r_idx,num_bits):\n",
    "    p_idx = np.zeros((r_idx.size**2+r_idx.size)//2,dtype='uint')\n",
    "    offs = r_idx*num_bits - 0.5*r_idx*(r_idx-1)\n",
    "    idx = 0\n",
    "    for i in range(r_idx.size):\n",
    "        p_idx[idx:(idx+r_idx.size-i)] = offs[i] +r_idx[i:]-r_idx[i]\n",
    "        idx = idx+r_idx.size-i\n",
    "    return p_idx"
   ]
  },
  {
   "cell_type": "code",
   "execution_count": 51,
   "metadata": {
    "collapsed": true
   },
   "outputs": [],
   "source": [
    "import itertools\n",
    "\n",
    "def pairwise3(r_idx,num_bits):\n",
    "    p_idx = np.zeros((r_idx.size**2+r_idx.size)//2).astype('uint')\n",
    "    j=0\n",
    "    for p in itertools.combinations_with_replacement(r_idx,2):\n",
    "        offset = p[0]*num_bits - 0.5*(p[0])*(max(p[0]-1,0))\n",
    "        p_idx[j] = (offset+p[1]-p[0])\n",
    "        j+=1\n",
    "    return p_idx\n",
    "        "
   ]
  },
  {
   "cell_type": "code",
   "execution_count": 48,
   "metadata": {
    "collapsed": true
   },
   "outputs": [],
   "source": [
    "def pairwise4(r_idx,num_bits):\n",
    "    res=[]\n",
    "    for i,ind1 in enumerate(r_idx):\n",
    "        for ind2 in r_idx[i:]:\n",
    "            offset = ind1*num_bits - 0.5*ind1*(max(ind1-1,0))\n",
    "            res.append((offset+ind2-ind1))\n",
    "\n",
    "    return np.array(res,dtype='uint')"
   ]
  },
  {
   "cell_type": "code",
   "execution_count": 31,
   "metadata": {
    "collapsed": true
   },
   "outputs": [],
   "source": [
    "#full calculation on complete binary vector, not sparse\n",
    "def pairwise_full(b_vector):\n",
    "    n_bits =b_vector.size\n",
    "    res = np.zeros(n_bits*(n_bits+1)*0.5)\n",
    "    idx=0\n",
    "    for b in range(n_bits):\n",
    "        #explicitly take and of bit and rest of vector\n",
    "        res[idx:idx+n_bits-b] = np.logical_and(b_vector[b],b_vector[b:])\n",
    "        idx += n_bits-b\n",
    "    return res# not sparse"
   ]
  },
  {
   "cell_type": "code",
   "execution_count": 58,
   "metadata": {
    "collapsed": true
   },
   "outputs": [],
   "source": [
    "#full calculation on complete binary vector, not sparse\n",
    "def pairwise_full2(b_vector):\n",
    "    n_bits =b_vector.size\n",
    "    res = np.zeros(n_bits*(n_bits+1)*0.5)\n",
    "    idx=0\n",
    "    for b in range(n_bits):\n",
    "        #explicitly take and of bit and rest of vector\n",
    "        if b_vector[b]:\n",
    "            res[idx:idx+n_bits-b] = np.logical_and(b_vector[b],b_vector[b:])\n",
    "        idx += n_bits-b\n",
    "    return res# not sparse"
   ]
  },
  {
   "cell_type": "markdown",
   "metadata": {},
   "source": [
    "compare results"
   ]
  },
  {
   "cell_type": "code",
   "execution_count": 59,
   "metadata": {
    "collapsed": false
   },
   "outputs": [
    {
     "name": "stdout",
     "output_type": "stream",
     "text": [
      "[ 36  37  42  43  49  56  59  65  68  69  71  76  77  83  90  93  99 102\n",
      " 103 231 232 238 245 248 254 257 258 260 266 273 276 282 285 286 413 420\n",
      " 423 429 432 433 546 549 555 558 559 588 594 597 598 645 648 649 660 661\n",
      " 663]\n",
      "[ 36  37  42  43  49  56  59  65  68  69  71  76  77  83  90  93  99 102\n",
      " 103 231 232 238 245 248 254 257 258 260 266 273 276 282 285 286 413 420\n",
      " 423 429 432 433 546 549 555 558 559 588 594 597 598 645 648 649 660 661\n",
      " 663]\n",
      "[ 36  37  42  43  49  56  59  65  68  69  71  76  77  83  90  93  99 102\n",
      " 103 231 232 238 245 248 254 257 258 260 266 273 276 282 285 286 413 420\n",
      " 423 429 432 433 546 549 555 558 559 588 594 597 598 645 648 649 660 661\n",
      " 663]\n",
      "[ 36  37  42  43  49  56  59  65  68  69  71  76  77  83  90  93  99 102\n",
      " 103 231 232 238 245 248 254 257 258 260 266 273 276 282 285 286 413 420\n",
      " 423 429 432 433 546 549 555 558 559 588 594 597 598 645 648 649 660 661\n",
      " 663]\n",
      "[ 36  37  42  43  49  56  59  65  68  69  71  76  77  83  90  93  99 102\n",
      " 103 231 232 238 245 248 254 257 258 260 266 273 276 282 285 286 413 420\n",
      " 423 429 432 433 546 549 555 558 559 588 594 597 598 645 648 649 660 661\n",
      " 663]\n",
      "[ 36  37  42  43  49  56  59  65  68  69  71  76  77  83  90  93  99 102\n",
      " 103 231 232 238 245 248 254 257 258 260 266 273 276 282 285 286 413 420\n",
      " 423 429 432 433 546 549 555 558 559 588 594 597 598 645 648 649 660 661\n",
      " 663]\n"
     ]
    }
   ],
   "source": [
    "import numpy as np\n",
    "test= np.sort(np.random.choice(36,10,replace=False))\n",
    "test_full = np.zeros(36)\n",
    "test_full[test] = 1\n",
    "print np.sort(pairwise(test,36))\n",
    "print np.sort(pairwise2(test,36))\n",
    "print np.sort(pairwise3(test,36))\n",
    "print np.sort(pairwise4(test,36))\n",
    "print np.nonzero(pairwise_full(test_full))[0]\n",
    "print np.nonzero(pairwise_full2(test_full))[0]"
   ]
  },
  {
   "cell_type": "code",
   "execution_count": 61,
   "metadata": {
    "collapsed": false
   },
   "outputs": [
    {
     "name": "stdout",
     "output_type": "stream",
     "text": [
      "6.51795430183\n",
      "0.0462745189667\n",
      "7.08753681183\n",
      "6.74534697533\n",
      "0.0319801330566\n",
      "0.0340291500092\n"
     ]
    }
   ],
   "source": [
    "import timeit\n",
    "setup =\"\"\"\n",
    "import numpy as np\n",
    "import itertools\n",
    "test= np.sort(np.random.choice(1024,512,replace=False))\n",
    "test_full = np.zeros(1024)\n",
    "test_full[test] = 1\n",
    "\"\"\"\n",
    "timer1 = timeit.Timer(\"pairwise(test,1024)\",setup+\"from __main__ import pairwise\")\n",
    "timer2 = timeit.Timer(\"pairwise2(test,1024)\",setup+\"from __main__ import pairwise2\")\n",
    "timer3 = timeit.Timer(\"pairwise3(test,1024)\",setup+\"from __main__ import pairwise3\")\n",
    "timer4 = timeit.Timer(\"pairwise4(test,1024)\",setup+\"from __main__ import pairwise4\")\n",
    "timer5 = timeit.Timer(\"pairwise_full(test_full)\",setup+\"from __main__ import pairwise_full\")\n",
    "timer6 = timeit.Timer(\"pairwise_full2(test_full)\",setup+\"from __main__ import pairwise_full2\")\n",
    "\n",
    "\n",
    "\n",
    "#don't do default 1e6 reps, will take forever...\n",
    "print np.mean(timer1.repeat(5,20))\n",
    "print np.mean(timer2.repeat(5,20)) \n",
    "print np.mean(timer3.repeat(5,20))\n",
    "print np.mean(timer4.repeat(5,20))\n",
    "print np.mean(timer5.repeat(5,20))\n",
    "print np.mean(timer6.repeat(5,20))"
   ]
  },
  {
   "cell_type": "markdown",
   "metadata": {},
   "source": [
    "more thorough comparison of best:"
   ]
  },
  {
   "cell_type": "code",
   "execution_count": 62,
   "metadata": {
    "collapsed": false
   },
   "outputs": [
    {
     "name": "stdout",
     "output_type": "stream",
     "text": [
      "2.4556826973\n",
      "1.65413356781\n",
      "1.67849230051\n"
     ]
    }
   ],
   "source": [
    "print np.mean(timer2.repeat(100,1000)) \n",
    "print np.mean(timer5.repeat(100,1000))\n",
    "print np.mean(timer6.repeat(100,1000))"
   ]
  },
  {
   "cell_type": "markdown",
   "metadata": {},
   "source": [
    "full cost when working with sparse feature vectors (needed with large #features)"
   ]
  },
  {
   "cell_type": "code",
   "execution_count": 64,
   "metadata": {
    "collapsed": false
   },
   "outputs": [
    {
     "name": "stdout",
     "output_type": "stream",
     "text": [
      "5.06877657652\n"
     ]
    }
   ],
   "source": [
    "timer7 = timeit.Timer(\"np.nonzero(pairwise_full(test_full))\",setup+\"from __main__ import pairwise_full\")\n",
    "print np.mean(timer7.repeat(100,1000))"
   ]
  },
  {
   "cell_type": "code",
   "execution_count": null,
   "metadata": {
    "collapsed": true
   },
   "outputs": [],
   "source": []
  }
 ],
 "metadata": {
  "kernelspec": {
   "display_name": "Python 2",
   "language": "python",
   "name": "python2"
  },
  "language_info": {
   "codemirror_mode": {
    "name": "ipython",
    "version": 2
   },
   "file_extension": ".py",
   "mimetype": "text/x-python",
   "name": "python",
   "nbconvert_exporter": "python",
   "pygments_lexer": "ipython2",
   "version": "2.7.10"
  }
 },
 "nbformat": 4,
 "nbformat_minor": 0
}
